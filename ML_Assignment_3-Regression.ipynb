{
 "cells": [
  {
   "cell_type": "code",
   "execution_count": 1,
   "id": "a1e094b7-f673-4ef4-bc42-c71e2ae77b2b",
   "metadata": {},
   "outputs": [],
   "source": [
    "import numpy as np\n",
    "import pandas as pd\n",
    "import matplotlib.pyplot as plt\n",
    "import seaborn as sns\n",
    "from sklearn.datasets import fetch_california_housing\n",
    "from sklearn.model_selection import train_test_split\n",
    "from sklearn.preprocessing import StandardScaler\n",
    "from sklearn.linear_model import LinearRegression\n",
    "from sklearn.tree import DecisionTreeRegressor\n",
    "from sklearn.ensemble import RandomForestRegressor, GradientBoostingRegressor\n",
    "from sklearn.svm import SVR\n",
    "from sklearn.metrics import mean_squared_error, mean_absolute_error, r2_score\n"
   ]
  },
  {
   "cell_type": "code",
   "execution_count": 3,
   "id": "427e5334-989b-462e-b605-bbacf11f4a4b",
   "metadata": {},
   "outputs": [],
   "source": [
    "# Load the dataset\n",
    "data = fetch_california_housing()\n",
    "df = pd.DataFrame(data.data, columns=data.feature_names)\n",
    "df['Target'] = data.target"
   ]
  },
  {
   "cell_type": "code",
   "execution_count": 9,
   "id": "e75436ad-52a9-4064-86e4-7aba1e8b446c",
   "metadata": {},
   "outputs": [
    {
     "name": "stdout",
     "output_type": "stream",
     "text": [
      "<class 'pandas.core.frame.DataFrame'>\n",
      "RangeIndex: 20640 entries, 0 to 20639\n",
      "Data columns (total 9 columns):\n",
      " #   Column      Non-Null Count  Dtype  \n",
      "---  ------      --------------  -----  \n",
      " 0   MedInc      20640 non-null  float64\n",
      " 1   HouseAge    20640 non-null  float64\n",
      " 2   AveRooms    20640 non-null  float64\n",
      " 3   AveBedrms   20640 non-null  float64\n",
      " 4   Population  20640 non-null  float64\n",
      " 5   AveOccup    20640 non-null  float64\n",
      " 6   Latitude    20640 non-null  float64\n",
      " 7   Longitude   20640 non-null  float64\n",
      " 8   Target      20640 non-null  float64\n",
      "dtypes: float64(9)\n",
      "memory usage: 1.4 MB\n",
      "None\n",
      "             MedInc      HouseAge      AveRooms     AveBedrms    Population  \\\n",
      "count  20640.000000  20640.000000  20640.000000  20640.000000  20640.000000   \n",
      "mean       3.870671     28.639486      5.429000      1.096675   1425.476744   \n",
      "std        1.899822     12.585558      2.474173      0.473911   1132.462122   \n",
      "min        0.499900      1.000000      0.846154      0.333333      3.000000   \n",
      "25%        2.563400     18.000000      4.440716      1.006079    787.000000   \n",
      "50%        3.534800     29.000000      5.229129      1.048780   1166.000000   \n",
      "75%        4.743250     37.000000      6.052381      1.099526   1725.000000   \n",
      "max       15.000100     52.000000    141.909091     34.066667  35682.000000   \n",
      "\n",
      "           AveOccup      Latitude     Longitude        Target  \n",
      "count  20640.000000  20640.000000  20640.000000  20640.000000  \n",
      "mean       3.070655     35.631861   -119.569704      2.068558  \n",
      "std       10.386050      2.135952      2.003532      1.153956  \n",
      "min        0.692308     32.540000   -124.350000      0.149990  \n",
      "25%        2.429741     33.930000   -121.800000      1.196000  \n",
      "50%        2.818116     34.260000   -118.490000      1.797000  \n",
      "75%        3.282261     37.710000   -118.010000      2.647250  \n",
      "max     1243.333333     41.950000   -114.310000      5.000010  \n"
     ]
    }
   ],
   "source": [
    "# Display basic information\n",
    "print(df.info())\n",
    "print(df.describe())"
   ]
  },
  {
   "cell_type": "code",
   "execution_count": 11,
   "id": "0f3d5cf3-7cc0-4b65-bc59-f5a757513193",
   "metadata": {},
   "outputs": [
    {
     "name": "stdout",
     "output_type": "stream",
     "text": [
      "Missing Values:\n",
      " MedInc        0\n",
      "HouseAge      0\n",
      "AveRooms      0\n",
      "AveBedrms     0\n",
      "Population    0\n",
      "AveOccup      0\n",
      "Latitude      0\n",
      "Longitude     0\n",
      "Target        0\n",
      "dtype: int64\n"
     ]
    }
   ],
   "source": [
    "# Check for missing values\n",
    "print(\"Missing Values:\\n\", df.isnull().sum())"
   ]
  },
  {
   "cell_type": "code",
   "execution_count": 13,
   "id": "bcb44e34-530a-4b22-b3a9-407c6b9c039c",
   "metadata": {},
   "outputs": [],
   "source": [
    "# Splitting the dataset\n",
    "X = df.drop(columns=['Target'])\n",
    "y = df['Target']\n",
    "X_train, X_test, y_train, y_test = train_test_split(X, y, test_size=0.2, random_state=42)\n"
   ]
  },
  {
   "cell_type": "code",
   "execution_count": 15,
   "id": "545404ba-aa52-4353-bdc4-3b47a56027ef",
   "metadata": {},
   "outputs": [],
   "source": [
    "# Feature Scaling\n",
    "scaler = StandardScaler()\n",
    "X_train_scaled = scaler.fit_transform(X_train)\n",
    "X_test_scaled = scaler.transform(X_test)"
   ]
  },
  {
   "cell_type": "markdown",
   "id": "87b59e63-2ecf-41fb-a9b6-1d463ea45fa8",
   "metadata": {},
   "source": [
    "# Explain the preprocessing steps and justification\n",
    "preprocessing explanation \n",
    "1. **Loading Data**: We use `fetch_california_housing()` from `sklearn.datasets` to load the dataset.\n",
    "2. **Converting to DataFrame**: Converting to Pandas DataFrame makes data handling and visualization easier.\n",
    "3. **Handling Missing Values**: We check for missing values using `df.isnull().sum()`. No missing values were found.\n",
    "4. **Feature Scaling**: Standardization (z-score normalization) is applied using `StandardScaler()` to ensure features are on the same scale.\n",
    "\n",
    "   **Justification**: Many machine learning models, especially SVR and Gradient Boosting, perform better with standardized data.\n"
   ]
  },
  {
   "cell_type": "code",
   "execution_count": 19,
   "id": "b43d26e3-ceb8-4ae0-8082-7a520b855295",
   "metadata": {},
   "outputs": [],
   "source": [
    "# Define models\n",
    "models = {\n",
    "    \"Linear Regression\": LinearRegression(),\n",
    "    \"Decision Tree\": DecisionTreeRegressor(random_state=42),\n",
    "    \"Random Forest\": RandomForestRegressor(n_estimators=100, random_state=42),\n",
    "    \"Gradient Boosting\": GradientBoostingRegressor(n_estimators=100, random_state=42),\n",
    "    \"SVR\": SVR()\n",
    "}"
   ]
  },
  {
   "cell_type": "markdown",
   "id": "e4905034-1a82-4cfb-8e0a-fe3c1e95129a",
   "metadata": {},
   "source": [
    "# Regression Algorithm Implementation \n",
    "algorithm explanation \n",
    "### Regression Algorithms Implemented:\n",
    "1. **Linear Regression**:\n",
    "   - Assumes a linear relationship between input features and the target.\n",
    "   - Suitable when relationships between features are approximately linear.\n",
    "\n",
    "2. **Decision Tree Regressor**:\n",
    "   - Splits data into branches based on feature values.\n",
    "   - Handles non-linearity well but prone to overfitting.\n",
    "\n",
    "3. **Random Forest Regressor**:\n",
    "   - Uses multiple decision trees (ensemble learning) to improve accuracy and reduce overfitting.\n",
    "   - Works well for structured tabular data.\n",
    "\n",
    "4. **Gradient Boosting Regressor**:\n",
    "   - Builds trees sequentially, correcting the previous tree’s errors.\n",
    "   - Effective for high-dimensional, complex data.\n",
    "\n",
    "5. **Support Vector Regressor (SVR)**:\n",
    "   - Uses hyperplanes to predict values within a margin of tolerance.\n",
    "   - Works well with small datasets but may struggle with large datasets.\n",
    "\n"
   ]
  },
  {
   "cell_type": "code",
   "execution_count": 23,
   "id": "0cdac896-7a5a-4b5d-b435-d555754eebdc",
   "metadata": {},
   "outputs": [
    {
     "name": "stdout",
     "output_type": "stream",
     "text": [
      "Linear Regression: MSE=0.5559, MAE=0.5332, R²=0.5758\n",
      "Decision Tree: MSE=0.4940, MAE=0.4539, R²=0.6230\n",
      "Random Forest: MSE=0.2552, MAE=0.3274, R²=0.8053\n",
      "Gradient Boosting: MSE=0.2940, MAE=0.3717, R²=0.7756\n",
      "SVR: MSE=0.3570, MAE=0.3986, R²=0.7276\n"
     ]
    }
   ],
   "source": [
    "# Model training and evaluation\n",
    "results = {}\n",
    "\n",
    "for name, model in models.items():\n",
    "    model.fit(X_train_scaled, y_train)\n",
    "    y_pred = model.predict(X_test_scaled)\n",
    "    mse = mean_squared_error(y_test, y_pred)\n",
    "    mae = mean_absolute_error(y_test, y_pred)\n",
    "    r2 = r2_score(y_test, y_pred)\n",
    "    results[name] = [mse, mae, r2]\n",
    "    print(f\"{name}: MSE={mse:.4f}, MAE={mae:.4f}, R²={r2:.4f}\")\n"
   ]
  },
  {
   "cell_type": "code",
   "execution_count": 25,
   "id": "3007bc45-a5c8-45a6-9c8c-b3a868c4785e",
   "metadata": {},
   "outputs": [
    {
     "name": "stdout",
     "output_type": "stream",
     "text": [
      "                        MSE       MAE        R²\n",
      "Linear Regression  0.555892  0.533200  0.575788\n",
      "Decision Tree      0.493969  0.453904  0.623042\n",
      "Random Forest      0.255170  0.327425  0.805275\n",
      "Gradient Boosting  0.293999  0.371650  0.775643\n",
      "SVR                0.357004  0.398599  0.727563\n"
     ]
    }
   ],
   "source": [
    "# Convert results to DataFrame\n",
    "results_df = pd.DataFrame(results, index=['MSE', 'MAE', 'R²']).T\n",
    "print(results_df)"
   ]
  },
  {
   "cell_type": "code",
   "execution_count": 28,
   "id": "fe7a2f24-db0a-4c3e-aabd-be9a2be4d12c",
   "metadata": {},
   "outputs": [
    {
     "data": {
      "image/png": "[encoded data removed]",
      "text/plain": [
       "<Figure size 1000x600 with 1 Axes>"
      ]
     },
     "metadata": {},
     "output_type": "display_data"
    }
   ],
   "source": [
    "# Plot comparison\n",
    "plt.figure(figsize=(10, 6))\n",
    "sns.barplot(data=results_df)\n",
    "plt.title(\"Model Performance Comparison\")\n",
    "plt.ylabel(\"Error Metrics\")\n",
    "plt.xticks(rotation=45)\n",
    "plt.show()"
   ]
  },
  {
   "cell_type": "markdown",
   "id": "27faafe3-ca9f-4860-8c24-fc0e524e7d47",
   "metadata": {},
   "source": [
    "# Model Evaluation and Comparison \n",
    "evaluation_explanation \n",
    "### Model Comparison:\n",
    "- **Best Performing Model**:\n",
    "  - The model with the highest R² and lowest MSE/MAE is considered the best.\n",
    "  - In this case, **Random Forest Regressor** performs the best with:\n",
    "    - **MSE** = 0.2552 (Lowest)\n",
    "    - **MAE** = 0.3274 (Lowest)\n",
    "    - **R²** = 0.8053 (Highest)\n",
    "  - Justification: Random Forest reduces overfitting, captures non-linearity, and improves accuracy through ensemble learning.\n",
    "\n",
    "- **Worst Performing Model**:\n",
    "  - The model with the lowest R² and highest errors is considered the worst.\n",
    "  - **Linear Regression** performs the worst with:\n",
    "    - **MSE** = 0.5559 (Highest)\n",
    "    - **MAE** = 0.5332 (Highest)\n",
    "    - **R²** = 0.5758 (Lowest)\n",
    "  - Reasoning: Linear Regression assumes a strict linear relationship, which may not hold in complex datasets like housing prices, leading to poor performance.\n",
    "\n"
   ]
  },
  {
   "cell_type": "code",
   "execution_count": null,
   "id": "0f806ef1-7537-4df7-8901-73c26cffe81a",
   "metadata": {},
   "outputs": [],
   "source": []
  }
 ],
 "metadata": {
  "kernelspec": {
   "display_name": "Python 3 (ipykernel)",
   "language": "python",
   "name": "python3"
  },
  "language_info": {
   "codemirror_mode": {
    "name": "ipython",
    "version": 3
   },
   "file_extension": ".py",
   "mimetype": "text/x-python",
   "name": "python",
   "nbconvert_exporter": "python",
   "pygments_lexer": "ipython3",
   "version": "3.12.7"
  }
 },
 "nbformat": 4,
 "nbformat_minor": 5
}
